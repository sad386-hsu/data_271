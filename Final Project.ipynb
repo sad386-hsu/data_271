{
 "cells": [
  {
   "cell_type": "markdown",
   "id": "810efa29",
   "metadata": {},
   "source": [
    "# DATA 271 Final Project: US Homelessness"
   ]
  },
  {
   "cell_type": "markdown",
   "id": "97a5849a",
   "metadata": {},
   "source": [
    "Homelessness in America, and specifically in California, is a major issue that affects hundreds of thousands of people. I would like to look into the data involving homelessness and see how many people are affected. I think that, through looking at trends in this data, I can try to look at real life situations and causes that might be affecting these trends. Such examples could include policies and legislations, and other potential socioeconomic factors.\n",
    "If I can see potentially correlating factors in homeless population trends, I may be able to link them to outside circumstances and suggest potential changes.\n",
    "\n",
    "This data informs policymakers as to how to delegate help to homeless populations, so it is important to understand it to get the proper funding."
   ]
  },
  {
   "cell_type": "code",
   "execution_count": 30,
   "id": "d216544b",
   "metadata": {},
   "outputs": [
    {
     "name": "stdout",
     "output_type": "stream",
     "text": [
      "Requirement already satisfied: openpyxl in /opt/conda/lib/python3.10/site-packages (3.1.2)\n",
      "Requirement already satisfied: et-xmlfile in /opt/conda/lib/python3.10/site-packages (from openpyxl) (1.1.0)\n",
      "Requirement already satisfied: pyxlsb in /opt/conda/lib/python3.10/site-packages (1.0.10)\n"
     ]
    }
   ],
   "source": [
    "import numpy as np\n",
    "import pandas as pd\n",
    "import matplotlib.pyplot as plt\n",
    "import seaborn as sns\n",
    "!pip install openpyxl\n",
    "!pip install pyxlsb"
   ]
  },
  {
   "cell_type": "markdown",
   "id": "7cbb2dab",
   "metadata": {},
   "source": [
    "-  **numpy**: For any calculations I may need to do.\n",
    "-  **pandas**: For importing data and utilizing it in a dataframe.\n",
    "-  **matplotlob**: For visualizing data.\n",
    "-  **seaborn**: For visualizing data.\n",
    "__________________________________________________________\n"
   ]
  },
  {
   "cell_type": "markdown",
   "id": "c8a7bea3",
   "metadata": {},
   "source": [
    "-  **pit_counts_df** (https://www.huduser.gov/portal/sites/default/files/xls/2007-2024-PIT-Counts-by-State.xlsb): This is a dataset of Point-In-Time (PIT) estimates by states in the United States, from 2007 to 2024. Point-In-Time count is an effort led by the U.S. Department of Housing and Urban Development, also known as HUD, that estimates the number of homeless people in the United States. I will be looking at the years 2014-2024.\n",
    "-  This dataset has hundreds, and sometimes over a thousand variables, so I will need to narrow them down to the most relevant ones. I'll be looking at ages of homeless people, amounts of homeless people, CoC numbers, etc.\n",
    "_____________________________\n",
    "\n",
    "-  **hic_counts_df** (https://www.huduser.gov/portal/sites/default/files/xls/2007-2024-HIC-Counts-by-State.xlsx): This is a dataset of Housing Inventory Counts (HIC) by states in the United States, from 2007 to 2024. HIC is an inventory count system used within a CoC that provides beds dedicated to serving homeless people. I will be looking at the years 2014-2024.\n",
    "-  This dataset has many variables dedicated to bed counts, unit counts, specific categories for children, adults, veterans, etc.\n",
    "- Some categories of beds include **ES (emergency shelter), TH (transitional housing), SH (safe haven), and OPH (other permanent housing).**\n",
    "__________________________________________________________\n"
   ]
  },
  {
   "cell_type": "code",
   "execution_count": 31,
   "id": "38bbca42",
   "metadata": {},
   "outputs": [
    {
     "name": "stderr",
     "output_type": "stream",
     "text": [
      "/opt/conda/lib/python3.10/site-packages/openpyxl/worksheet/header_footer.py:48: UserWarning: Cannot parse header or footer so it will be ignored\n",
      "  warn(\"\"\"Cannot parse header or footer so it will be ignored\"\"\")\n",
      "/opt/conda/lib/python3.10/site-packages/openpyxl/worksheet/header_footer.py:48: UserWarning: Cannot parse header or footer so it will be ignored\n",
      "  warn(\"\"\"Cannot parse header or footer so it will be ignored\"\"\")\n",
      "/opt/conda/lib/python3.10/site-packages/openpyxl/worksheet/header_footer.py:48: UserWarning: Cannot parse header or footer so it will be ignored\n",
      "  warn(\"\"\"Cannot parse header or footer so it will be ignored\"\"\")\n",
      "/opt/conda/lib/python3.10/site-packages/openpyxl/worksheet/header_footer.py:48: UserWarning: Cannot parse header or footer so it will be ignored\n",
      "  warn(\"\"\"Cannot parse header or footer so it will be ignored\"\"\")\n",
      "/opt/conda/lib/python3.10/site-packages/openpyxl/worksheet/header_footer.py:48: UserWarning: Cannot parse header or footer so it will be ignored\n",
      "  warn(\"\"\"Cannot parse header or footer so it will be ignored\"\"\")\n",
      "/opt/conda/lib/python3.10/site-packages/openpyxl/worksheet/header_footer.py:48: UserWarning: Cannot parse header or footer so it will be ignored\n",
      "  warn(\"\"\"Cannot parse header or footer so it will be ignored\"\"\")\n",
      "/opt/conda/lib/python3.10/site-packages/openpyxl/worksheet/header_footer.py:48: UserWarning: Cannot parse header or footer so it will be ignored\n",
      "  warn(\"\"\"Cannot parse header or footer so it will be ignored\"\"\")\n"
     ]
    }
   ],
   "source": [
    "pit_counts_df = pd.read_excel('2007-2024-PIT-Counts-by-State.xlsb', engine='pyxlsb', sheet_name=None)\n",
    "\n",
    "hic_counts_df = pd.read_excel('2007-2024-HIC-Counts-by-State.xlsx', engine='openpyxl', sheet_name=None,header=None)"
   ]
  },
  {
   "cell_type": "code",
   "execution_count": 34,
   "id": "4f427f27",
   "metadata": {},
   "outputs": [],
   "source": [
    "base_pit_copy = pit_counts_df.copy()\n",
    "base_hic_copy = hic_counts_df.copy()"
   ]
  },
  {
   "cell_type": "markdown",
   "id": "716183cf",
   "metadata": {},
   "source": [
    "**hic_counts_df** is having some problems with the headers, so I'll clean them up."
   ]
  },
  {
   "cell_type": "code",
   "execution_count": 35,
   "id": "ceff6351",
   "metadata": {},
   "outputs": [
    {
     "name": "stderr",
     "output_type": "stream",
     "text": [
      "/opt/conda/lib/python3.10/site-packages/openpyxl/worksheet/header_footer.py:48: UserWarning: Cannot parse header or footer so it will be ignored\n",
      "  warn(\"\"\"Cannot parse header or footer so it will be ignored\"\"\")\n",
      "/opt/conda/lib/python3.10/site-packages/openpyxl/worksheet/header_footer.py:48: UserWarning: Cannot parse header or footer so it will be ignored\n",
      "  warn(\"\"\"Cannot parse header or footer so it will be ignored\"\"\")\n",
      "/opt/conda/lib/python3.10/site-packages/openpyxl/worksheet/header_footer.py:48: UserWarning: Cannot parse header or footer so it will be ignored\n",
      "  warn(\"\"\"Cannot parse header or footer so it will be ignored\"\"\")\n",
      "/opt/conda/lib/python3.10/site-packages/openpyxl/worksheet/header_footer.py:48: UserWarning: Cannot parse header or footer so it will be ignored\n",
      "  warn(\"\"\"Cannot parse header or footer so it will be ignored\"\"\")\n",
      "/opt/conda/lib/python3.10/site-packages/openpyxl/worksheet/header_footer.py:48: UserWarning: Cannot parse header or footer so it will be ignored\n",
      "  warn(\"\"\"Cannot parse header or footer so it will be ignored\"\"\")\n",
      "/opt/conda/lib/python3.10/site-packages/openpyxl/worksheet/header_footer.py:48: UserWarning: Cannot parse header or footer so it will be ignored\n",
      "  warn(\"\"\"Cannot parse header or footer so it will be ignored\"\"\")\n",
      "/opt/conda/lib/python3.10/site-packages/openpyxl/worksheet/header_footer.py:48: UserWarning: Cannot parse header or footer so it will be ignored\n",
      "  warn(\"\"\"Cannot parse header or footer so it will be ignored\"\"\")\n"
     ]
    }
   ],
   "source": [
    "with pd.ExcelFile('2007-2024-HIC-Counts-by-State.xlsx') as excel:\n",
    "    hic_dict = pd.read_excel(excel, sheet_name=None, header=None)\n",
    "\n",
    "processed_sheets = {}\n",
    "for sheet_name, df in hic_dict.items():\n",
    "    header_row = 1 \n",
    "    if len(df) > header_row: \n",
    "        df.columns = df.iloc[header_row].values\n",
    "        df = df.drop([0, 1]).reset_index(drop=True)\n",
    "        processed_sheets[sheet_name] = df.drop(header_row).reset_index(drop=True)\n",
    "    else:\n",
    "        processed_sheets[sheet_name] = df \n",
    "\n",
    "with pd.ExcelWriter('2007-2024-HIC-Counts-by-State-modified.xlsx') as writer:\n",
    "    for sheet_name, df in processed_sheets.items():\n",
    "        df.to_excel(writer, sheet_name=sheet_name, index=False)"
   ]
  },
  {
   "cell_type": "code",
   "execution_count": 62,
   "id": "0d0f670b",
   "metadata": {},
   "outputs": [],
   "source": [
    "# creating a new .xlsx file with the edited headers\n",
    "hic_counts_df = pd.read_excel('2007-2024-HIC-Counts-by-State-modified.xlsx', engine='openpyxl', sheet_name=None)"
   ]
  },
  {
   "cell_type": "markdown",
   "id": "ed7abf16",
   "metadata": {},
   "source": [
    "_______________________________________________________________________________"
   ]
  },
  {
   "cell_type": "markdown",
   "id": "fbb01390",
   "metadata": {},
   "source": [
    "**hic_counts_df** now properly has the correct header in each sheet.\n",
    "_______________________________________________________________________________"
   ]
  },
  {
   "cell_type": "code",
   "execution_count": 63,
   "id": "386c227a",
   "metadata": {},
   "outputs": [],
   "source": [
    "# reducing the pit_counts_df dataset to the years 2014-2024\n",
    "\n",
    "pit_decade = list(pit_counts_df.items())[:11]\n",
    "\n",
    "updated_dfs_pit = []\n",
    "\n",
    "for sheet_name, df in pit_decade:\n",
    "    year = int(sheet_name)\n",
    "    df[\"Year\"] = year\n",
    "    updated_dfs_pit.append(df) \n",
    "\n",
    "# combining each dataset now that each row denotes the year\n",
    "pit_concat_df = pd.concat(updated_dfs_pit, ignore_index=True) "
   ]
  },
  {
   "cell_type": "code",
   "execution_count": 72,
   "id": "be1eb73e",
   "metadata": {},
   "outputs": [],
   "source": [
    "# reducing the hic_counts_df dataset to the years 2014-2024\n",
    "\n",
    "hic_decade = list(hic_counts_df.items())[:11]\n",
    "\n",
    "updated_dfs_hic = []\n",
    "\n",
    "for sheet_name, df in hic_decade:\n",
    "    year = int(sheet_name)\n",
    "    df[\"Year\"] = year\n",
    "    updated_dfs_hic.append(df) \n",
    "\n",
    "# combining each dataset now that each row denotes the year\n",
    "hic_concat_df = pd.concat(updated_dfs_hic, ignore_index=True) "
   ]
  }
 ],
 "metadata": {
  "kernelspec": {
   "display_name": "Python 3 (ipykernel)",
   "language": "python",
   "name": "python3"
  },
  "language_info": {
   "codemirror_mode": {
    "name": "ipython",
    "version": 3
   },
   "file_extension": ".py",
   "mimetype": "text/x-python",
   "name": "python",
   "nbconvert_exporter": "python",
   "pygments_lexer": "ipython3",
   "version": "3.10.11"
  }
 },
 "nbformat": 4,
 "nbformat_minor": 5
}
